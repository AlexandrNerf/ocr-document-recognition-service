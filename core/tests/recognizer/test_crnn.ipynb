{
 "cells": [
  {
   "cell_type": "code",
   "execution_count": null,
   "id": "a4b61baf",
   "metadata": {},
   "outputs": [],
   "source": [
    "import rootutils\n",
    "\n",
    "rootutils.setup_root('.', pythonpath=True)"
   ]
  },
  {
   "cell_type": "code",
   "execution_count": null,
   "id": "1b445804",
   "metadata": {},
   "outputs": [],
   "source": [
    "import matplotlib.pyplot as plt\n",
    "import cv2\n",
    "import sys\n",
    "import torch\n",
    "\n",
    "from shift_ocr.detectors.fast import FASTDetector\n",
    "from shift_ocr.recognizer.crnn import CRNNRecognizer\n",
    "from shift_ocr.postprocessor.simple import SimplePostprocessor"
   ]
  },
  {
   "cell_type": "code",
   "execution_count": null,
   "id": "96dd5805",
   "metadata": {},
   "outputs": [],
   "source": [
    "import torch\n",
    "torch.cuda.is_available()"
   ]
  },
  {
   "cell_type": "code",
   "execution_count": null,
   "id": "c605ae03",
   "metadata": {},
   "outputs": [],
   "source": [
    "vocab = \"АӘБВГҒДЕЁЖЗИЙКҚЛМНҢОӨПРСТУҰҮФҺЦЧШЩЪЫІЬЭЮЯаәбвгғдеёжзийкқлмнңоөпрстуұүфһцчшщъыіьэюяABCDEFGHIJKLMNOPQRSTUVWXYZabcdefghijklmnopqrstuvwxyz0123456789!$#()?-.,:;@%&*+=[]{}\""
   ]
  },
  {
   "cell_type": "code",
   "execution_count": null,
   "id": "84c821fd",
   "metadata": {},
   "outputs": [],
   "source": [
    "detector = FASTDetector(\n",
    "            cuda=False,\n",
    "            pretrained=True,\n",
    "            assume_straight_pages=False\n",
    "        )"
   ]
  },
  {
   "cell_type": "code",
   "execution_count": null,
   "id": "0a8ffab9",
   "metadata": {},
   "outputs": [],
   "source": [
    "recognizer_no_filter = CRNNRecognizer(\n",
    "    cuda=False,\n",
    "    pretrained=False,\n",
    "    filter_ctc=False,\n",
    "    vocab=vocab,\n",
    "    backbone=\"vgg16\",\n",
    "    weights_path=r\"D:\\code\\recognition-symbols-core\\assets\\models\\model_vgg16_lstm_ctc-True_best.pth\"\n",
    ")\n",
    "\n",
    "recognizer_filter = CRNNRecognizer(\n",
    "    cuda=False,\n",
    "    pretrained=False,\n",
    "    filter_ctc=True,\n",
    "    vocab=vocab,\n",
    "    backbone=\"vgg16\",\n",
    "    weights_path=r\"D:\\code\\recognition-symbols-core\\assets\\models\\model_vgg16_lstm_ctc-True_best.pth\"\n",
    ")\n",
    "\n",
    "postprocessor = SimplePostprocessor()"
   ]
  },
  {
   "cell_type": "code",
   "execution_count": null,
   "id": "c9216020",
   "metadata": {},
   "outputs": [],
   "source": [
    "img_ru = cv2.imread('img_ru.png')\n",
    "img_eng = cv2.imread('img_eng.png')\n",
    "img_kz = cv2.imread('img_kz.png')"
   ]
  },
  {
   "cell_type": "code",
   "execution_count": null,
   "id": "7e9f467e",
   "metadata": {},
   "outputs": [],
   "source": [
    "recognizer_filter.net"
   ]
  },
  {
   "cell_type": "code",
   "execution_count": null,
   "id": "207dcfac",
   "metadata": {},
   "outputs": [],
   "source": [
    "ru_detections = detector.detect(img_ru)\n",
    "eng_detections = detector.detect(img_eng)\n",
    "kz_detections = detector.detect(img_kz)\n",
    "\n",
    "post_ru_detections = postprocessor.postprocessing(ru_detections, img_ru)\n",
    "post_eng_detections = postprocessor.postprocessing(eng_detections, img_eng)\n",
    "post_kz_detections = postprocessor.postprocessing(kz_detections, img_kz)"
   ]
  },
  {
   "cell_type": "code",
   "execution_count": null,
   "id": "de576f91",
   "metadata": {},
   "outputs": [],
   "source": [
    "from shift_ocr.utils.BBoxVisualizer import BoundingBoxVisualizer\n",
    "\n",
    "BoundingBoxVisualizer.show_image(img_ru, post_ru_detections)\n",
    "BoundingBoxVisualizer.show_image(img_eng, post_eng_detections)\n",
    "BoundingBoxVisualizer.show_image(img_kz, post_kz_detections)"
   ]
  },
  {
   "cell_type": "code",
   "execution_count": null,
   "id": "7efba9b3",
   "metadata": {},
   "outputs": [],
   "source": [
    "ru_ocr_detections = recognizer_filter.recognize(post_ru_detections)\n",
    "eng_ocr_detections = recognizer_filter.recognize(post_eng_detections)\n",
    "kz_ocr_detections = recognizer_filter.recognize(post_kz_detections)"
   ]
  },
  {
   "cell_type": "code",
   "execution_count": null,
   "id": "c6ef1e71",
   "metadata": {},
   "outputs": [],
   "source": [
    "from IPython.display import display, HTML\n",
    "\n",
    "html_output = \"\"\n",
    "for pred in ru_ocr_detections:\n",
    "    # Сохраняем изображение во временный файл\n",
    "    import tempfile\n",
    "    from PIL import Image\n",
    "    \n",
    "    with tempfile.NamedTemporaryFile(suffix='.png', delete=False) as tmp:\n",
    "        Image.fromarray(pred.crop).save(tmp.name)\n",
    "        html_output += f\"\"\"\n",
    "        <div style=\"margin: 10px; border: 1px solid #ccc; padding: 10px; float: left;\">\n",
    "            <img src=\"{tmp.name}\" style=\"max-height: 200px;\"/>\n",
    "            <p style=\"text-align: center; word-wrap: break-word; width: 200px;\"><b>{pred.text}</b></p>\n",
    "        </div>\n",
    "        \"\"\"\n",
    "    \n",
    "display(HTML(html_output))\n",
    "\n",
    "# Удаляем временные файлы\n",
    "for pred in ru_ocr_detections:\n",
    "    pass  # Файлы будут автоматически удалены при закрытии временного файла"
   ]
  }
 ],
 "metadata": {
  "kernelspec": {
   "display_name": "shift-back1",
   "language": "python",
   "name": "python3"
  },
  "language_info": {
   "codemirror_mode": {
    "name": "ipython",
    "version": 3
   },
   "file_extension": ".py",
   "mimetype": "text/x-python",
   "name": "python",
   "nbconvert_exporter": "python",
   "pygments_lexer": "ipython3",
   "version": "3.11.13"
  }
 },
 "nbformat": 4,
 "nbformat_minor": 5
}

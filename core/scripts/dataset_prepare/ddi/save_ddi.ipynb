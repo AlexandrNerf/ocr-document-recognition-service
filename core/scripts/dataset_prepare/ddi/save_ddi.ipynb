{
 "cells": [
  {
   "cell_type": "code",
   "execution_count": 1,
   "metadata": {},
   "outputs": [],
   "source": [
    "import os\n",
    "import pickle\n",
    "import tqdm\n",
    "\n",
    "from glob import glob"
   ]
  },
  {
   "cell_type": "code",
   "execution_count": 2,
   "metadata": {},
   "outputs": [],
   "source": [
    "dataset_path = 'dataset' # Папка с частями датасета (01, 02 и т.д.)\n",
    "result_path = 'result'"
   ]
  },
  {
   "cell_type": "code",
   "execution_count": 3,
   "metadata": {},
   "outputs": [],
   "source": [
    "\n",
    "\n",
    "def save_ddi(directory, result):\n",
    "    book_paths = glob(os.path.join(directory, \"*\"))\n",
    "    paths = []\n",
    "    for book in book_paths:\n",
    "        paths += glob(os.path.join(book, \"gen_imgs\", \"*\"))\n",
    "\n",
    "    result_data = os.path.join(result, 'data')\n",
    "    result_image = os.path.join(result, 'images')\n",
    "\n",
    "    os.makedirs(result_data, exist_ok=True)\n",
    "    os.makedirs(result_image, exist_ok=True)\n",
    "\n",
    "    for i, path in enumerate(tqdm.tqdm(paths, desc='Collecting dataset')):\n",
    "        img_path = path\n",
    "        boxes_path = os.path.join(os.path.dirname(os.path.dirname(img_path)), 'gen_boxes', os.path.splitext(os.path.basename(img_path))[0] + \".pickle\")\n",
    "        \n",
    "        with open(boxes_path, \"rb\") as f:\n",
    "            data = pickle.load(f)\n",
    "\n",
    "        new_img_path = os.path.join(result_image, f'DDI_{i}.png')\n",
    "        os.rename(img_path, new_img_path)\n",
    "\n",
    "        # Пишем боксы в txt файлы\n",
    "        with open(os.path.join(result_data, f'DDI_{i}.txt'), 'w', encoding='utf-8') as txt:\n",
    "            for info in data:\n",
    "                box, text = info['box'], info['text']\n",
    "                top_left, bottom_right = box[0], box[3]\n",
    "\n",
    "                center_x, center_y = ((top_left[1] + bottom_right[1]) / 2) / new_img_path, ((top_left[0] + bottom_right[0]) / 2) / new_img_path\n",
    "                width, height = (abs(bottom_right[1] - top_left[1])) / new_img_path, (abs(bottom_right[0] - top_left[0])) / new_img_path\n",
    "                txt.write(f'{text} {center_x} {center_y} {width} {height}\\n')"
   ]
  },
  {
   "cell_type": "code",
   "execution_count": 4,
   "metadata": {},
   "outputs": [
    {
     "name": "stderr",
     "output_type": "stream",
     "text": [
      "Collecting dataset: 100%|██████████| 3120/3120 [11:04<00:00,  4.70it/s]\n"
     ]
    }
   ],
   "source": [
    "save_ddi(dataset_path, result_path)"
   ]
  }
 ],
 "metadata": {
  "kernelspec": {
   "display_name": "Python 3",
   "language": "python",
   "name": "python3"
  },
  "language_info": {
   "codemirror_mode": {
    "name": "ipython",
    "version": 3
   },
   "file_extension": ".py",
   "mimetype": "text/x-python",
   "name": "python",
   "nbconvert_exporter": "python",
   "pygments_lexer": "ipython3",
   "version": "3.10.16"
  }
 },
 "nbformat": 4,
 "nbformat_minor": 2
}

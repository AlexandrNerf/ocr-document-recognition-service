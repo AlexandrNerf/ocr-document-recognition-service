{
 "cells": [
  {
   "cell_type": "code",
   "execution_count": 12,
   "metadata": {},
   "outputs": [],
   "source": [
    "import os\n",
    "import json\n",
    "import tqdm"
   ]
  },
  {
   "cell_type": "code",
   "execution_count": 13,
   "metadata": {},
   "outputs": [],
   "source": [
    "dataset_path = 'dataset'\n",
    "result_path = 'result'"
   ]
  },
  {
   "cell_type": "code",
   "execution_count": 14,
   "metadata": {},
   "outputs": [],
   "source": [
    "def save_sroie(directory, result):\n",
    "    result_data = os.path.join(result, 'data')\n",
    "    result_img = os.path.join(result, 'images')\n",
    "\n",
    "    os.makedirs(result_data, exist_ok=True)\n",
    "    os.makedirs(result_img, exist_ok=True)\n",
    "\n",
    "    data_dir = os.path.join(directory, \"tagged\")\n",
    "    img_dir = os.path.join(directory, \"images\")\n",
    "\n",
    "    for i, file in enumerate(tqdm.tqdm(sorted(os.listdir(img_dir)), desc='Collecting SROIE data')):\n",
    "        name, _ = os.path.splitext(file)\n",
    "        file_path = os.path.join(data_dir, name + \".json\")\n",
    "\n",
    "        with open(file_path, \"r\", encoding=\"utf8\") as f:\n",
    "            data = json.load(f)\n",
    "\n",
    "        image_path = os.path.join(img_dir, file)\n",
    "        new_img_path = os.path.join(result_img, f'SROIE_{i}.png')\n",
    "        os.rename(image_path, new_img_path)  # Перемещение изображения\n",
    "\n",
    "        with open(os.path.join(result_data, f'SROIE_{i}.txt'), 'w', encoding='utf-8') as txt:\n",
    "            for bbox, words in zip(data['bbox'], data['words']):\n",
    "                top_left_x, top_left_y = bbox[0], bbox[1]\n",
    "                bottom_right_x, bottom_right_y = bbox[2], bbox[3]\n",
    "                \n",
    "                w = bottom_right_x - top_left_x\n",
    "                h = bottom_right_y - top_left_y\n",
    "                \n",
    "                center_x = (top_left_x + bottom_right_x) / 2\n",
    "                center_y = (top_left_y + bottom_right_y) / 2\n",
    "\n",
    "                txt.write(f'{words} {center_x} {center_y} {w} {h}\\n')"
   ]
  },
  {
   "cell_type": "code",
   "execution_count": 15,
   "metadata": {},
   "outputs": [
    {
     "name": "stderr",
     "output_type": "stream",
     "text": [
      "Collecting SROIE data: 100%|██████████| 973/973 [01:48<00:00,  9.00it/s]\n"
     ]
    }
   ],
   "source": [
    "save_sroie(dataset_path, result_path)"
   ]
  }
 ],
 "metadata": {
  "kernelspec": {
   "display_name": "Python 3",
   "language": "python",
   "name": "python3"
  },
  "language_info": {
   "codemirror_mode": {
    "name": "ipython",
    "version": 3
   },
   "file_extension": ".py",
   "mimetype": "text/x-python",
   "name": "python",
   "nbconvert_exporter": "python",
   "pygments_lexer": "ipython3",
   "version": "3.12.1"
  }
 },
 "nbformat": 4,
 "nbformat_minor": 2
}

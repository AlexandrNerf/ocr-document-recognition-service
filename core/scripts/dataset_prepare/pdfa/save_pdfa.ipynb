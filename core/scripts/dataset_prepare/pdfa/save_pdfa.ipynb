{
 "cells": [
  {
   "cell_type": "code",
   "execution_count": 17,
   "metadata": {},
   "outputs": [],
   "source": [
    "import os\n",
    "import json\n",
    "import tqdm\n",
    "import pdf2image"
   ]
  },
  {
   "cell_type": "code",
   "execution_count": 5,
   "metadata": {},
   "outputs": [],
   "source": [
    "dataset_path = 'dataset'\n",
    "result_path = 'result'"
   ]
  },
  {
   "cell_type": "code",
   "execution_count": null,
   "metadata": {},
   "outputs": [],
   "source": [
    "def sectorize_pdf(dir):\n",
    "    files = os.listdir(dir)\n",
    "    return [f for f in files if f.endswith('.pdf')]\n",
    "\n",
    "pdf_files = sectorize_pdf(dataset_path)"
   ]
  },
  {
   "cell_type": "code",
   "execution_count": null,
   "metadata": {},
   "outputs": [],
   "source": [
    "current_file = 0\n",
    "\n",
    "result_data = os.path.join(result_path, 'data')\n",
    "result_image = os.path.join(result_path, 'images')\n",
    "\n",
    "os.makedirs(result_data, exist_ok=True)\n",
    "os.makedirs(result_image, exist_ok=True)\n",
    "\n",
    "for i, pdf_name in enumerate(tqdm.tqdm(pdf_files, desc='Processing PDFA files')):\n",
    "    json_name = f'{os.path.splitext(pdf_name)[0]}.json'\n",
    "    pdf_path = os.path.join(dataset_path, pdf_name)\n",
    "    json_path = os.path.join(dataset_path, json_name)\n",
    "    \n",
    "    with open(json_path, 'r', encoding='utf-8') as j:\n",
    "        data = json.load(j)\n",
    "\n",
    "    images = pdf2image.convert_from_path(pdf_path, poppler_path=r\"C:\\Library\\bin\")\n",
    "\n",
    "    for img, page in tqdm.tqdm(zip(images, data['pages']), desc=f'Processing {i} page'):\n",
    "        txt_path = os.path.join(result_data, f'PDFA_{current_file}.txt')\n",
    "        img_path = os.path.join(result_image, f'PDFA_{current_file}.png')\n",
    "\n",
    "        with open(txt_path, 'w', encoding='utf-8') as txt:\n",
    "            for text, box in zip(page['words']['text'], page['words']['bbox']):\n",
    "                txt.write(f\"{text} {box[0] + box[2] / 2} {box[1] + box[3] / 2} {box[2]} {box[3]}\\n\")\n",
    "\n",
    "        img.save(img_path, 'PNG')\n",
    "        current_file += 1"
   ]
  }
 ],
 "metadata": {
  "kernelspec": {
   "display_name": "Python 3",
   "language": "python",
   "name": "python3"
  },
  "language_info": {
   "codemirror_mode": {
    "name": "ipython",
    "version": 3
   },
   "file_extension": ".py",
   "mimetype": "text/x-python",
   "name": "python",
   "nbconvert_exporter": "python",
   "pygments_lexer": "ipython3",
   "version": "3.12.1"
  }
 },
 "nbformat": 4,
 "nbformat_minor": 2
}

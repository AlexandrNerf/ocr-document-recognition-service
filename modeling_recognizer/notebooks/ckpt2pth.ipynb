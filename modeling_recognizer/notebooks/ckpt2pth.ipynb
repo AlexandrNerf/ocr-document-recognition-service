{
 "cells": [
  {
   "cell_type": "code",
   "execution_count": null,
   "id": "566571fc",
   "metadata": {},
   "outputs": [],
   "source": [
    "import torch\n",
    "import sys\n",
    "\n",
    "sys.path.append('../')\n",
    "%cd ../\n",
    "!dir\n",
    "from src.models.crnn import CRNNModel"
   ]
  },
  {
   "cell_type": "markdown",
   "id": "01fe6345",
   "metadata": {},
   "source": []
  },
  {
   "cell_type": "code",
   "execution_count": 3,
   "id": "1d677bf4",
   "metadata": {},
   "outputs": [],
   "source": [
    "from src.models.crnn import CRNNModel"
   ]
  },
  {
   "cell_type": "code",
   "execution_count": 4,
   "id": "b70b6800",
   "metadata": {},
   "outputs": [],
   "source": [
    "PATH_TO_CKPT = 'logs/train/baseline_crnn_vgg16/runs/2025-10-08_20-21-36\\checkpoints\\last.ckpt'\n",
    "SAVE_PATH = '../weights/'\n",
    "MODEL_NAME = 'crnn_vgg16_lstm256_baseline__2025_10_08.pth'"
   ]
  },
  {
   "cell_type": "code",
   "execution_count": 7,
   "id": "709e5ec1",
   "metadata": {},
   "outputs": [
    {
     "name": "stdout",
     "output_type": "stream",
     "text": [
      "output shape:  torch.Size([1, 512, 1, 50])\n"
     ]
    },
    {
     "name": "stderr",
     "output_type": "stream",
     "text": [
      "d:\\ocr-project\\modeling_recognizer\\src\\models\\crnn.py:107: FutureWarning: `nn.init.xavier_uniform` is now deprecated in favor of `nn.init.xavier_uniform_`.\n",
      "  nn.init.xavier_uniform(param)\n"
     ]
    }
   ],
   "source": [
    "new_hparams = {\"weights_path\": None}\n",
    "\n",
    "model = CRNNModel.load_from_checkpoint(PATH_TO_CKPT, strict=False, **new_hparams)\n",
    "\n",
    "torch.save(model.net.state_dict(), SAVE_PATH+MODEL_NAME)"
   ]
  }
 ],
 "metadata": {
  "kernelspec": {
   "display_name": "Python 3",
   "language": "python",
   "name": "python3"
  },
  "language_info": {
   "codemirror_mode": {
    "name": "ipython",
    "version": 3
   },
   "file_extension": ".py",
   "mimetype": "text/x-python",
   "name": "python",
   "nbconvert_exporter": "python",
   "pygments_lexer": "ipython3",
   "version": "3.10.16"
  }
 },
 "nbformat": 4,
 "nbformat_minor": 5
}
